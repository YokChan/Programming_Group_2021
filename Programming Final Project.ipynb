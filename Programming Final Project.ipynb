{
 "cells": [
  {
   "cell_type": "markdown",
   "metadata": {},
   "source": [
    "Importing Libraries"
   ]
  },
  {
   "cell_type": "code",
   "execution_count": 1,
   "metadata": {},
   "outputs": [],
   "source": [
    "import pandas as pd \n",
    "import numpy as np\n",
    "import math \n",
    "import requests"
   ]
  },
  {
   "cell_type": "markdown",
   "metadata": {},
   "source": [
    "Request financial data from API (S&P 500 ETF, daily return, time_series = from 1999-11-01 onwards) "
   ]
  },
  {
   "cell_type": "code",
   "execution_count": 2,
   "metadata": {},
   "outputs": [],
   "source": [
    "API = \"https://www.alphavantage.co/query?function=TIME_SERIES_DAILY&symbol=SPY&outputsize=full&apikey=5DDYCW62KNNRTPS1\"\n",
    "req = requests.get(API)\n",
    "data = req.json()\n",
    "for i in data:\n",
    "    adjusted = data[i]\n",
    "\n",
    "closing_prices = []\n",
    "for i in adjusted:\n",
    "    a= adjusted[i]\n",
    "    closing_prices.append(float(a[\"4. close\"]))\n",
    "dates = []\n",
    "for i in data:\n",
    "    for f in data[i]:\n",
    "        dates.append(f)\n"
   ]
  },
  {
   "cell_type": "code",
   "execution_count": 3,
   "metadata": {},
   "outputs": [],
   "source": [
    "df = pd.DataFrame(closing_prices,index = dates[5:],columns=[\"Closing Price\"])"
   ]
  },
  {
   "cell_type": "markdown",
   "metadata": {},
   "source": [
    "Compute Moving Average"
   ]
  },
  {
   "cell_type": "code",
   "execution_count": 4,
   "metadata": {},
   "outputs": [],
   "source": [
    "window_size = 15\n",
    "numbers_series = pd.Series(closing_prices)\n",
    "windows = numbers_series.rolling(window_size)\n",
    "moving_averages = windows.mean()\n",
    "moving_averages_list = moving_averages.tolist()\n",
    "\n",
    "df[\"MA\"]= pd.Series(moving_averages_list)\n"
   ]
  },
  {
   "cell_type": "markdown",
   "metadata": {},
   "source": [
    "Compute Moving Standard Deviation"
   ]
  },
  {
   "cell_type": "code",
   "execution_count": 5,
   "metadata": {},
   "outputs": [],
   "source": [
    "window_size = 15\n",
    "numbers_series = pd.Series(closing_prices)\n",
    "windows = numbers_series.rolling(window_size)\n",
    "moving_standard_deviation = windows.std()\n",
    "moving_standard_deviation_list = moving_averages.tolist()\n",
    "\n",
    "df[\"Moving Standard Deviation\"]= pd.Series(moving_standard_deviation_list)"
   ]
  },
  {
   "cell_type": "code",
   "execution_count": 6,
   "metadata": {},
   "outputs": [
    {
     "data": {
      "text/html": [
       "<div>\n",
       "<style scoped>\n",
       "    .dataframe tbody tr th:only-of-type {\n",
       "        vertical-align: middle;\n",
       "    }\n",
       "\n",
       "    .dataframe tbody tr th {\n",
       "        vertical-align: top;\n",
       "    }\n",
       "\n",
       "    .dataframe thead th {\n",
       "        text-align: right;\n",
       "    }\n",
       "</style>\n",
       "<table border=\"1\" class=\"dataframe\">\n",
       "  <thead>\n",
       "    <tr style=\"text-align: right;\">\n",
       "      <th></th>\n",
       "      <th>Closing Price</th>\n",
       "      <th>MA</th>\n",
       "      <th>Moving Standard Deviation</th>\n",
       "    </tr>\n",
       "  </thead>\n",
       "  <tbody>\n",
       "    <tr>\n",
       "      <th>2021-11-22</th>\n",
       "      <td>467.5700</td>\n",
       "      <td>NaN</td>\n",
       "      <td>NaN</td>\n",
       "    </tr>\n",
       "    <tr>\n",
       "      <th>2021-11-19</th>\n",
       "      <td>468.8900</td>\n",
       "      <td>NaN</td>\n",
       "      <td>NaN</td>\n",
       "    </tr>\n",
       "    <tr>\n",
       "      <th>2021-11-18</th>\n",
       "      <td>469.7300</td>\n",
       "      <td>NaN</td>\n",
       "      <td>NaN</td>\n",
       "    </tr>\n",
       "    <tr>\n",
       "      <th>2021-11-17</th>\n",
       "      <td>468.1400</td>\n",
       "      <td>NaN</td>\n",
       "      <td>NaN</td>\n",
       "    </tr>\n",
       "    <tr>\n",
       "      <th>2021-11-16</th>\n",
       "      <td>469.2800</td>\n",
       "      <td>NaN</td>\n",
       "      <td>NaN</td>\n",
       "    </tr>\n",
       "    <tr>\n",
       "      <th>...</th>\n",
       "      <td>...</td>\n",
       "      <td>...</td>\n",
       "      <td>...</td>\n",
       "    </tr>\n",
       "    <tr>\n",
       "      <th>1999-11-05</th>\n",
       "      <td>137.8750</td>\n",
       "      <td>NaN</td>\n",
       "      <td>NaN</td>\n",
       "    </tr>\n",
       "    <tr>\n",
       "      <th>1999-11-04</th>\n",
       "      <td>136.5312</td>\n",
       "      <td>NaN</td>\n",
       "      <td>NaN</td>\n",
       "    </tr>\n",
       "    <tr>\n",
       "      <th>1999-11-03</th>\n",
       "      <td>135.5000</td>\n",
       "      <td>NaN</td>\n",
       "      <td>NaN</td>\n",
       "    </tr>\n",
       "    <tr>\n",
       "      <th>1999-11-02</th>\n",
       "      <td>134.5937</td>\n",
       "      <td>NaN</td>\n",
       "      <td>NaN</td>\n",
       "    </tr>\n",
       "    <tr>\n",
       "      <th>1999-11-01</th>\n",
       "      <td>135.5625</td>\n",
       "      <td>NaN</td>\n",
       "      <td>NaN</td>\n",
       "    </tr>\n",
       "  </tbody>\n",
       "</table>\n",
       "<p>5552 rows × 3 columns</p>\n",
       "</div>"
      ],
      "text/plain": [
       "            Closing Price  MA  Moving Standard Deviation\n",
       "2021-11-22       467.5700 NaN                        NaN\n",
       "2021-11-19       468.8900 NaN                        NaN\n",
       "2021-11-18       469.7300 NaN                        NaN\n",
       "2021-11-17       468.1400 NaN                        NaN\n",
       "2021-11-16       469.2800 NaN                        NaN\n",
       "...                   ...  ..                        ...\n",
       "1999-11-05       137.8750 NaN                        NaN\n",
       "1999-11-04       136.5312 NaN                        NaN\n",
       "1999-11-03       135.5000 NaN                        NaN\n",
       "1999-11-02       134.5937 NaN                        NaN\n",
       "1999-11-01       135.5625 NaN                        NaN\n",
       "\n",
       "[5552 rows x 3 columns]"
      ]
     },
     "execution_count": 6,
     "metadata": {},
     "output_type": "execute_result"
    }
   ],
   "source": [
    "df"
   ]
  },
  {
   "cell_type": "code",
   "execution_count": 7,
   "metadata": {},
   "outputs": [
    {
     "name": "stdout",
     "output_type": "stream",
     "text": [
      "Python implementation: CPython\n",
      "Python version       : 3.8.8\n",
      "IPython version      : 7.22.0\n",
      "\n",
      "wget         : not installed\n",
      "pandas       : 1.2.4\n",
      "numpy        : 1.20.1\n",
      "geopy        : not installed\n",
      "altair       : not installed\n",
      "vega         : not installed\n",
      "vega_datasets: not installed\n",
      "watermark    : 2.2.0\n",
      "\n"
     ]
    }
   ],
   "source": [
    "%load_ext watermark\n",
    "%watermark -v -p wget,pandas,numpy,geopy,altair,vega,vega_datasets,watermark"
   ]
  },
  {
   "cell_type": "code",
   "execution_count": 8,
   "metadata": {},
   "outputs": [
    {
     "name": "stdout",
     "output_type": "stream",
     "text": [
      "Requirement already satisfied: watermark in d:\\programdata\\anaconda3\\lib\\site-packages (2.2.0)\n",
      "Requirement already satisfied: ipython in d:\\programdata\\anaconda3\\lib\\site-packages (from watermark) (7.22.0)\n",
      "Requirement already satisfied: traitlets>=4.2 in d:\\programdata\\anaconda3\\lib\\site-packages (from ipython->watermark) (5.0.5)\n",
      "Requirement already satisfied: decorator in d:\\programdata\\anaconda3\\lib\\site-packages (from ipython->watermark) (5.0.6)\n",
      "Requirement already satisfied: backcall in d:\\programdata\\anaconda3\\lib\\site-packages (from ipython->watermark) (0.2.0)\n",
      "Requirement already satisfied: setuptools>=18.5 in d:\\programdata\\anaconda3\\lib\\site-packages (from ipython->watermark) (52.0.0.post20210125)\n",
      "Requirement already satisfied: colorama in d:\\programdata\\anaconda3\\lib\\site-packages (from ipython->watermark) (0.4.4)\n",
      "Requirement already satisfied: pickleshare in d:\\programdata\\anaconda3\\lib\\site-packages (from ipython->watermark) (0.7.5)\n",
      "Requirement already satisfied: prompt-toolkit!=3.0.0,!=3.0.1,<3.1.0,>=2.0.0 in d:\\programdata\\anaconda3\\lib\\site-packages (from ipython->watermark) (3.0.17)\n",
      "Requirement already satisfied: pygments in d:\\programdata\\anaconda3\\lib\\site-packages (from ipython->watermark) (2.8.1)\n",
      "Requirement already satisfied: jedi>=0.16 in d:\\programdata\\anaconda3\\lib\\site-packages (from ipython->watermark) (0.17.2)\n",
      "Requirement already satisfied: parso<0.8.0,>=0.7.0 in d:\\programdata\\anaconda3\\lib\\site-packages (from jedi>=0.16->ipython->watermark) (0.7.0)\n",
      "Requirement already satisfied: wcwidth in d:\\programdata\\anaconda3\\lib\\site-packages (from prompt-toolkit!=3.0.0,!=3.0.1,<3.1.0,>=2.0.0->ipython->watermark) (0.2.5)\n",
      "Requirement already satisfied: ipython-genutils in d:\\programdata\\anaconda3\\lib\\site-packages (from traitlets>=4.2->ipython->watermark) (0.2.0)\n",
      "Note: you may need to restart the kernel to use updated packages.\n"
     ]
    }
   ],
   "source": [
    "pip install watermark"
   ]
  },
  {
   "cell_type": "code",
   "execution_count": null,
   "metadata": {},
   "outputs": [],
   "source": []
  }
 ],
 "metadata": {
  "kernelspec": {
   "display_name": "Python 3",
   "language": "python",
   "name": "python3"
  },
  "language_info": {
   "codemirror_mode": {
    "name": "ipython",
    "version": 3
   },
   "file_extension": ".py",
   "mimetype": "text/x-python",
   "name": "python",
   "nbconvert_exporter": "python",
   "pygments_lexer": "ipython3",
   "version": "3.8.8"
  }
 },
 "nbformat": 4,
 "nbformat_minor": 4
}
